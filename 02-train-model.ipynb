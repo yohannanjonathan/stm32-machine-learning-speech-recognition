{
 "cells": [
  {
   "cell_type": "code",
   "execution_count": 194,
   "metadata": {},
   "outputs": [],
   "source": [
    "# Import Python packages\n",
    "import os\n",
    "\n",
    "import numpy as np\n",
    "import tensorflow as tf"
   ]
  },
  {
   "cell_type": "code",
   "execution_count": 195,
   "metadata": {},
   "outputs": [],
   "source": [
    "# Create a list of all of the targets in the dataset (except for background noise)\n",
    "dataset_path = os.path.abspath('speech_commands_v0.02')\n",
    "\n",
    "targets = [entry for entry in os.listdir(dataset_path) if os.path.isdir(os.path.join(dataset_path, entry))]\n",
    "targets.remove('_background_noise_')\n",
    "targets.sort()"
   ]
  },
  {
   "cell_type": "code",
   "execution_count": 196,
   "metadata": {},
   "outputs": [],
   "source": [
    "# Load features and labels from .npz file\n",
    "mfcc_features = np.load(os.path.join(os.getcwd(), 'mfcc_features.npz'))\n",
    "\n",
    "x_train = mfcc_features['x_train']\n",
    "y_train = mfcc_features['y_train']\n",
    "x_validation = mfcc_features['x_validation']\n",
    "y_validation = mfcc_features['y_validation']\n",
    "x_test = mfcc_features['x_test']\n",
    "y_test = mfcc_features['y_test']"
   ]
  },
  {
   "cell_type": "code",
   "execution_count": 197,
   "metadata": {},
   "outputs": [],
   "source": [
    "# Convert all labels to wake word \"go\" (1) or other (0)\n",
    "wake_word_index = targets.index('go')\n",
    "\n",
    "y_train = np.equal(y_train, wake_word_index).astype('float64')\n",
    "y_validation = np.equal(y_validation, wake_word_index).astype('float64')\n",
    "y_test = np.equal(y_test, wake_word_index).astype('float64')"
   ]
  },
  {
   "cell_type": "code",
   "execution_count": 198,
   "metadata": {},
   "outputs": [],
   "source": [
    "# Reshape feature arrays to have 1 channel\n",
    "x_train = x_train.reshape(x_train.shape[0], x_train.shape[1], x_train.shape[2], 1)\n",
    "x_validation = x_validation.reshape(x_validation.shape[0], x_validation.shape[1], x_validation.shape[2], 1)\n",
    "x_test = x_test.reshape(x_test.shape[0], x_test.shape[1], x_test.shape[2], 1)"
   ]
  },
  {
   "cell_type": "code",
   "execution_count": 199,
   "metadata": {},
   "outputs": [],
   "source": [
    "# Build machine learning model\n",
    "model = tf.keras.models.Sequential()\n",
    "\n",
    "model.add(tf.keras.layers.Conv2D(32, (2, 2), activation = 'relu', input_shape = x_test.shape[1:]))\n",
    "model.add(tf.keras.layers.MaxPooling2D(pool_size = (2, 2)))\n",
    "\n",
    "model.add(tf.keras.layers.Conv2D(32, (2, 2), activation = 'relu'))\n",
    "model.add(tf.keras.layers.MaxPooling2D(pool_size = (2, 2)))\n",
    "\n",
    "model.add(tf.keras.layers.Conv2D(64, (2, 2), activation = 'relu'))\n",
    "model.add(tf.keras.layers.MaxPooling2D(pool_size = (2, 2)))\n",
    "\n",
    "model.add(tf.keras.layers.Flatten())\n",
    "model.add(tf.keras.layers.Dense(64, activation = 'relu'))\n",
    "model.add(tf.keras.layers.Dropout(0.5))\n",
    "model.add(tf.keras.layers.Dense(1, activation = 'sigmoid'))"
   ]
  },
  {
   "cell_type": "code",
   "execution_count": 200,
   "metadata": {},
   "outputs": [],
   "source": [
    "# Configure the model for training\n",
    "model.compile(loss = 'binary_crossentropy', optimizer = 'rmsprop', metrics = ['accuracy'])"
   ]
  },
  {
   "cell_type": "code",
   "execution_count": 201,
   "metadata": {},
   "outputs": [
    {
     "name": "stdout",
     "output_type": "stream",
     "text": [
      "Epoch 1/30\n",
      "\u001b[1m775/775\u001b[0m \u001b[32m━━━━━━━━━━━━━━━━━━━━\u001b[0m\u001b[37m\u001b[0m \u001b[1m3s\u001b[0m 4ms/step - accuracy: 0.9628 - loss: 0.1526 - val_accuracy: 0.9732 - val_loss: 0.0939\n",
      "Epoch 2/30\n",
      "\u001b[1m775/775\u001b[0m \u001b[32m━━━━━━━━━━━━━━━━━━━━\u001b[0m\u001b[37m\u001b[0m \u001b[1m3s\u001b[0m 4ms/step - accuracy: 0.9678 - loss: 0.0985 - val_accuracy: 0.9754 - val_loss: 0.0740\n",
      "Epoch 3/30\n",
      "\u001b[1m775/775\u001b[0m \u001b[32m━━━━━━━━━━━━━━━━━━━━\u001b[0m\u001b[37m\u001b[0m \u001b[1m3s\u001b[0m 4ms/step - accuracy: 0.9715 - loss: 0.0840 - val_accuracy: 0.9760 - val_loss: 0.0739\n",
      "Epoch 4/30\n",
      "\u001b[1m775/775\u001b[0m \u001b[32m━━━━━━━━━━━━━━━━━━━━\u001b[0m\u001b[37m\u001b[0m \u001b[1m3s\u001b[0m 3ms/step - accuracy: 0.9746 - loss: 0.0763 - val_accuracy: 0.9773 - val_loss: 0.0755\n",
      "Epoch 5/30\n",
      "\u001b[1m775/775\u001b[0m \u001b[32m━━━━━━━━━━━━━━━━━━━━\u001b[0m\u001b[37m\u001b[0m \u001b[1m2s\u001b[0m 3ms/step - accuracy: 0.9766 - loss: 0.0716 - val_accuracy: 0.9805 - val_loss: 0.0616\n",
      "Epoch 6/30\n",
      "\u001b[1m775/775\u001b[0m \u001b[32m━━━━━━━━━━━━━━━━━━━━\u001b[0m\u001b[37m\u001b[0m \u001b[1m2s\u001b[0m 3ms/step - accuracy: 0.9775 - loss: 0.0680 - val_accuracy: 0.9760 - val_loss: 0.0731\n",
      "Epoch 7/30\n",
      "\u001b[1m775/775\u001b[0m \u001b[32m━━━━━━━━━━━━━━━━━━━━\u001b[0m\u001b[37m\u001b[0m \u001b[1m3s\u001b[0m 3ms/step - accuracy: 0.9790 - loss: 0.0634 - val_accuracy: 0.9802 - val_loss: 0.0609\n",
      "Epoch 8/30\n",
      "\u001b[1m775/775\u001b[0m \u001b[32m━━━━━━━━━━━━━━━━━━━━\u001b[0m\u001b[37m\u001b[0m \u001b[1m3s\u001b[0m 3ms/step - accuracy: 0.9802 - loss: 0.0615 - val_accuracy: 0.9795 - val_loss: 0.0612\n",
      "Epoch 9/30\n",
      "\u001b[1m775/775\u001b[0m \u001b[32m━━━━━━━━━━━━━━━━━━━━\u001b[0m\u001b[37m\u001b[0m \u001b[1m3s\u001b[0m 4ms/step - accuracy: 0.9796 - loss: 0.0616 - val_accuracy: 0.9787 - val_loss: 0.0774\n",
      "Epoch 10/30\n",
      "\u001b[1m775/775\u001b[0m \u001b[32m━━━━━━━━━━━━━━━━━━━━\u001b[0m\u001b[37m\u001b[0m \u001b[1m3s\u001b[0m 3ms/step - accuracy: 0.9809 - loss: 0.0560 - val_accuracy: 0.9821 - val_loss: 0.0659\n",
      "Epoch 11/30\n",
      "\u001b[1m775/775\u001b[0m \u001b[32m━━━━━━━━━━━━━━━━━━━━\u001b[0m\u001b[37m\u001b[0m \u001b[1m3s\u001b[0m 3ms/step - accuracy: 0.9806 - loss: 0.0588 - val_accuracy: 0.9719 - val_loss: 0.0872\n",
      "Epoch 12/30\n",
      "\u001b[1m775/775\u001b[0m \u001b[32m━━━━━━━━━━━━━━━━━━━━\u001b[0m\u001b[37m\u001b[0m \u001b[1m3s\u001b[0m 3ms/step - accuracy: 0.9817 - loss: 0.0535 - val_accuracy: 0.9826 - val_loss: 0.0558\n",
      "Epoch 13/30\n",
      "\u001b[1m775/775\u001b[0m \u001b[32m━━━━━━━━━━━━━━━━━━━━\u001b[0m\u001b[37m\u001b[0m \u001b[1m3s\u001b[0m 3ms/step - accuracy: 0.9822 - loss: 0.0546 - val_accuracy: 0.9828 - val_loss: 0.0539\n",
      "Epoch 14/30\n",
      "\u001b[1m775/775\u001b[0m \u001b[32m━━━━━━━━━━━━━━━━━━━━\u001b[0m\u001b[37m\u001b[0m \u001b[1m3s\u001b[0m 4ms/step - accuracy: 0.9833 - loss: 0.0505 - val_accuracy: 0.9775 - val_loss: 0.0963\n",
      "Epoch 15/30\n",
      "\u001b[1m775/775\u001b[0m \u001b[32m━━━━━━━━━━━━━━━━━━━━\u001b[0m\u001b[37m\u001b[0m \u001b[1m3s\u001b[0m 3ms/step - accuracy: 0.9826 - loss: 0.0525 - val_accuracy: 0.9832 - val_loss: 0.0631\n",
      "Epoch 16/30\n",
      "\u001b[1m775/775\u001b[0m \u001b[32m━━━━━━━━━━━━━━━━━━━━\u001b[0m\u001b[37m\u001b[0m \u001b[1m3s\u001b[0m 3ms/step - accuracy: 0.9818 - loss: 0.0551 - val_accuracy: 0.9819 - val_loss: 0.0623\n",
      "Epoch 17/30\n",
      "\u001b[1m775/775\u001b[0m \u001b[32m━━━━━━━━━━━━━━━━━━━━\u001b[0m\u001b[37m\u001b[0m \u001b[1m3s\u001b[0m 3ms/step - accuracy: 0.9824 - loss: 0.0555 - val_accuracy: 0.9835 - val_loss: 0.0594\n",
      "Epoch 18/30\n",
      "\u001b[1m775/775\u001b[0m \u001b[32m━━━━━━━━━━━━━━━━━━━━\u001b[0m\u001b[37m\u001b[0m \u001b[1m3s\u001b[0m 3ms/step - accuracy: 0.9813 - loss: 0.0562 - val_accuracy: 0.9838 - val_loss: 0.0595\n",
      "Epoch 19/30\n",
      "\u001b[1m775/775\u001b[0m \u001b[32m━━━━━━━━━━━━━━━━━━━━\u001b[0m\u001b[37m\u001b[0m \u001b[1m3s\u001b[0m 3ms/step - accuracy: 0.9829 - loss: 0.0537 - val_accuracy: 0.9794 - val_loss: 0.0669\n",
      "Epoch 20/30\n",
      "\u001b[1m775/775\u001b[0m \u001b[32m━━━━━━━━━━━━━━━━━━━━\u001b[0m\u001b[37m\u001b[0m \u001b[1m3s\u001b[0m 3ms/step - accuracy: 0.9826 - loss: 0.0518 - val_accuracy: 0.9837 - val_loss: 0.0548\n",
      "Epoch 21/30\n",
      "\u001b[1m775/775\u001b[0m \u001b[32m━━━━━━━━━━━━━━━━━━━━\u001b[0m\u001b[37m\u001b[0m \u001b[1m3s\u001b[0m 4ms/step - accuracy: 0.9824 - loss: 0.0536 - val_accuracy: 0.9806 - val_loss: 0.0842\n",
      "Epoch 22/30\n",
      "\u001b[1m775/775\u001b[0m \u001b[32m━━━━━━━━━━━━━━━━━━━━\u001b[0m\u001b[37m\u001b[0m \u001b[1m3s\u001b[0m 3ms/step - accuracy: 0.9833 - loss: 0.0555 - val_accuracy: 0.9844 - val_loss: 0.0613\n",
      "Epoch 23/30\n",
      "\u001b[1m775/775\u001b[0m \u001b[32m━━━━━━━━━━━━━━━━━━━━\u001b[0m\u001b[37m\u001b[0m \u001b[1m3s\u001b[0m 3ms/step - accuracy: 0.9823 - loss: 0.0539 - val_accuracy: 0.9796 - val_loss: 0.0777\n",
      "Epoch 24/30\n",
      "\u001b[1m775/775\u001b[0m \u001b[32m━━━━━━━━━━━━━━━━━━━━\u001b[0m\u001b[37m\u001b[0m \u001b[1m3s\u001b[0m 3ms/step - accuracy: 0.9819 - loss: 0.0572 - val_accuracy: 0.9821 - val_loss: 0.0640\n",
      "Epoch 25/30\n",
      "\u001b[1m775/775\u001b[0m \u001b[32m━━━━━━━━━━━━━━━━━━━━\u001b[0m\u001b[37m\u001b[0m \u001b[1m3s\u001b[0m 3ms/step - accuracy: 0.9823 - loss: 0.0542 - val_accuracy: 0.9811 - val_loss: 0.0713\n",
      "Epoch 26/30\n",
      "\u001b[1m775/775\u001b[0m \u001b[32m━━━━━━━━━━━━━━━━━━━━\u001b[0m\u001b[37m\u001b[0m \u001b[1m3s\u001b[0m 3ms/step - accuracy: 0.9823 - loss: 0.0547 - val_accuracy: 0.9778 - val_loss: 0.1028\n",
      "Epoch 27/30\n",
      "\u001b[1m775/775\u001b[0m \u001b[32m━━━━━━━━━━━━━━━━━━━━\u001b[0m\u001b[37m\u001b[0m \u001b[1m3s\u001b[0m 3ms/step - accuracy: 0.9825 - loss: 0.0539 - val_accuracy: 0.9820 - val_loss: 0.0678\n",
      "Epoch 28/30\n",
      "\u001b[1m775/775\u001b[0m \u001b[32m━━━━━━━━━━━━━━━━━━━━\u001b[0m\u001b[37m\u001b[0m \u001b[1m3s\u001b[0m 4ms/step - accuracy: 0.9819 - loss: 0.0559 - val_accuracy: 0.9831 - val_loss: 0.0628\n",
      "Epoch 29/30\n",
      "\u001b[1m775/775\u001b[0m \u001b[32m━━━━━━━━━━━━━━━━━━━━\u001b[0m\u001b[37m\u001b[0m \u001b[1m3s\u001b[0m 4ms/step - accuracy: 0.9822 - loss: 0.0513 - val_accuracy: 0.9821 - val_loss: 0.0642\n",
      "Epoch 30/30\n",
      "\u001b[1m775/775\u001b[0m \u001b[32m━━━━━━━━━━━━━━━━━━━━\u001b[0m\u001b[37m\u001b[0m \u001b[1m3s\u001b[0m 4ms/step - accuracy: 0.9831 - loss: 0.0524 - val_accuracy: 0.9805 - val_loss: 0.0694\n"
     ]
    },
    {
     "data": {
      "text/plain": [
       "<keras.src.callbacks.history.History at 0x177784770>"
      ]
     },
     "execution_count": 201,
     "metadata": {},
     "output_type": "execute_result"
    }
   ],
   "source": [
    "# Train the model\n",
    "model.fit(x_train, y_train, epochs = 30, batch_size = 100, validation_data = (x_validation, y_validation))"
   ]
  },
  {
   "cell_type": "code",
   "execution_count": 202,
   "metadata": {},
   "outputs": [
    {
     "name": "stdout",
     "output_type": "stream",
     "text": [
      "\u001b[1m304/304\u001b[0m \u001b[32m━━━━━━━━━━━━━━━━━━━━\u001b[0m\u001b[37m\u001b[0m \u001b[1m0s\u001b[0m 672us/step - accuracy: 0.9777 - loss: 0.0795\n"
     ]
    },
    {
     "data": {
      "text/plain": [
       "[0.08281411230564117, 0.9770150780677795]"
      ]
     },
     "execution_count": 202,
     "metadata": {},
     "output_type": "execute_result"
    }
   ],
   "source": [
    "# Evaluate the model\n",
    "model.evaluate(x_test, y_test)"
   ]
  },
  {
   "cell_type": "code",
   "execution_count": 203,
   "metadata": {},
   "outputs": [],
   "source": [
    "# Save the model\n",
    "model.save(\"model.keras\")"
   ]
  }
 ],
 "metadata": {
  "kernelspec": {
   "display_name": ".venv",
   "language": "python",
   "name": "python3"
  },
  "language_info": {
   "codemirror_mode": {
    "name": "ipython",
    "version": 3
   },
   "file_extension": ".py",
   "mimetype": "text/x-python",
   "name": "python",
   "nbconvert_exporter": "python",
   "pygments_lexer": "ipython3",
   "version": "3.12.8"
  }
 },
 "nbformat": 4,
 "nbformat_minor": 2
}
