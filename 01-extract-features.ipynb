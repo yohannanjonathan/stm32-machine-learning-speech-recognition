{
 "cells": [
  {
   "cell_type": "code",
   "execution_count": 1,
   "metadata": {},
   "outputs": [],
   "source": [
    "# Import Python packages\n",
    "import os\n",
    "import random\n",
    "\n",
    "import librosa\n",
    "import numpy as np\n",
    "import python_speech_features"
   ]
  },
  {
   "cell_type": "code",
   "execution_count": 2,
   "metadata": {},
   "outputs": [],
   "source": [
    "# Settings\n",
    "percent_of_files_to_keep = 1\n",
    "validation_ratio = 0.1\n",
    "test_ratio = 0.1"
   ]
  },
  {
   "cell_type": "code",
   "execution_count": 3,
   "metadata": {},
   "outputs": [],
   "source": [
    "# Get the absolute path of the dataset\n",
    "dataset_path = os.path.abspath('speech_commands_v0.02')"
   ]
  },
  {
   "cell_type": "code",
   "execution_count": 4,
   "metadata": {},
   "outputs": [],
   "source": [
    "# Create a list of all of the targets in the dataset (except for background noise)\n",
    "targets = [entry for entry in os.listdir(dataset_path) if os.path.isdir(os.path.join(dataset_path, entry))]\n",
    "targets.remove('_background_noise_')\n",
    "targets.sort()"
   ]
  },
  {
   "cell_type": "code",
   "execution_count": 5,
   "metadata": {},
   "outputs": [],
   "source": [
    "# Create a list of files and a corresponding list of labels\n",
    "files = []\n",
    "labels = []\n",
    "\n",
    "for index, target in enumerate(targets):\n",
    "    files.append(os.listdir(os.path.join(dataset_path, target)))\n",
    "    labels.append(np.ones(len(files[index])) * index)\n",
    "\n",
    "files = [item for sublist in files for item in sublist]\n",
    "labels = [item for sublist in labels for item in sublist]\n",
    "\n",
    "files_and_labels = list(zip(files, labels))\n",
    "random.shuffle(files_and_labels)\n",
    "files, labels = zip(*files_and_labels)"
   ]
  },
  {
   "cell_type": "code",
   "execution_count": 6,
   "metadata": {},
   "outputs": [],
   "source": [
    "# Shorten dataset (if percent_of_files_to_keep != 1)\n",
    "files = files[0 : int(len(files) * percent_of_files_to_keep)]"
   ]
  },
  {
   "cell_type": "code",
   "execution_count": 7,
   "metadata": {},
   "outputs": [],
   "source": [
    "# Calculate validation and test set sizes\n",
    "validation_set_size = int(len(files) * validation_ratio)\n",
    "test_set_size = int(len(files) * test_ratio)"
   ]
  },
  {
   "cell_type": "code",
   "execution_count": 8,
   "metadata": {},
   "outputs": [],
   "source": [
    "# Split files into train, validation, and test sets\n",
    "files_validation = files[0 : validation_set_size]\n",
    "files_test = files[validation_set_size : (validation_set_size + test_set_size)]\n",
    "files_train = files[(validation_set_size + test_set_size) : ]"
   ]
  },
  {
   "cell_type": "code",
   "execution_count": 9,
   "metadata": {},
   "outputs": [],
   "source": [
    "# Split labels into train, validation, and test sets\n",
    "labels_validation = labels[0 : validation_set_size]\n",
    "labels_test = labels[validation_set_size : (validation_set_size + test_set_size)]\n",
    "labels_train = labels[(validation_set_size + test_set_size) : ]"
   ]
  },
  {
   "cell_type": "code",
   "execution_count": 10,
   "metadata": {},
   "outputs": [],
   "source": [
    "# Function to compute MFCC features from audio file\n",
    "def compute_mfcc(file_path):\n",
    "    y, sr = librosa.load(file_path, sr=8000)\n",
    "\n",
    "    mfcc_features = python_speech_features.base.mfcc(signal=y, samplerate=sr, winlen=0.256, winstep=0.050, numcep=16, nfilt=26, nfft=2048, preemph=0.0, ceplifter=0, appendEnergy=False, winfunc=np.hanning)\n",
    "    return mfcc_features.transpose()"
   ]
  },
  {
   "cell_type": "code",
   "execution_count": 11,
   "metadata": {},
   "outputs": [],
   "source": [
    "# Function to compute MFCC features for list of audio files, removing results from undesirable files\n",
    "def compute_mfccs(files, labels):\n",
    "    files_out = []\n",
    "    labels_out = []\n",
    "\n",
    "    for index, file in enumerate(files):\n",
    "        file_path = os.path.join(dataset_path, targets[int(labels[index])], file)\n",
    "\n",
    "        mfcc_features = compute_mfcc(file_path)\n",
    "\n",
    "        if mfcc_features.shape[1] == 16:\n",
    "            files_out.append(mfcc_features)\n",
    "            labels_out.append(labels[index])\n",
    "\n",
    "    return files_out, labels_out"
   ]
  },
  {
   "cell_type": "code",
   "execution_count": 12,
   "metadata": {},
   "outputs": [],
   "source": [
    "# Extract features for train, validation, and test sets\n",
    "x_train, y_train = compute_mfccs(files_train, labels_train)\n",
    "x_validation, y_validation = compute_mfccs(files_validation, labels_validation)\n",
    "x_test, y_test = compute_mfccs(files_test, labels_test)"
   ]
  },
  {
   "cell_type": "code",
   "execution_count": 13,
   "metadata": {},
   "outputs": [],
   "source": [
    "# Save features and labels to file\n",
    "np.savez('mfcc_features.npz', x_train=x_train, y_train=y_train, x_validation=x_validation, y_validation=y_validation, x_test=x_test, y_test=y_test)"
   ]
  }
 ],
 "metadata": {
  "kernelspec": {
   "display_name": ".venv",
   "language": "python",
   "name": "python3"
  },
  "language_info": {
   "codemirror_mode": {
    "name": "ipython",
    "version": 3
   },
   "file_extension": ".py",
   "mimetype": "text/x-python",
   "name": "python",
   "nbconvert_exporter": "python",
   "pygments_lexer": "ipython3",
   "version": "3.12.8"
  }
 },
 "nbformat": 4,
 "nbformat_minor": 2
}
