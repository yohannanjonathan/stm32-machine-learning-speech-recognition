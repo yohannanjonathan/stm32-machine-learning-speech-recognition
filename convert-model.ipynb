{
 "cells": [
  {
   "cell_type": "code",
   "execution_count": 7,
   "metadata": {},
   "outputs": [],
   "source": [
    "# Import Python packages\n",
    "import tensorflow as tf"
   ]
  },
  {
   "cell_type": "code",
   "execution_count": 8,
   "metadata": {},
   "outputs": [
    {
     "name": "stdout",
     "output_type": "stream",
     "text": [
      "INFO:tensorflow:Assets written to: /var/folders/2x/6b6_tjnx4_g6_ygvrg0y6b2w0000gn/T/tmpe9jcr8k0/assets\n"
     ]
    },
    {
     "name": "stderr",
     "output_type": "stream",
     "text": [
      "INFO:tensorflow:Assets written to: /var/folders/2x/6b6_tjnx4_g6_ygvrg0y6b2w0000gn/T/tmpe9jcr8k0/assets\n"
     ]
    },
    {
     "name": "stdout",
     "output_type": "stream",
     "text": [
      "Saved artifact at '/var/folders/2x/6b6_tjnx4_g6_ygvrg0y6b2w0000gn/T/tmpe9jcr8k0'. The following endpoints are available:\n",
      "\n",
      "* Endpoint 'serve'\n",
      "  args_0 (POSITIONAL_ONLY): TensorSpec(shape=(None, 16, 16, 1), dtype=tf.float32, name='input_layer_16')\n",
      "Output Type:\n",
      "  TensorSpec(shape=(None, 1), dtype=tf.float32, name=None)\n",
      "Captures:\n",
      "  5368118544: TensorSpec(shape=(), dtype=tf.resource, name=None)\n",
      "  5368117776: TensorSpec(shape=(), dtype=tf.resource, name=None)\n",
      "  5368119120: TensorSpec(shape=(), dtype=tf.resource, name=None)\n",
      "  5368108176: TensorSpec(shape=(), dtype=tf.resource, name=None)\n",
      "  5368117968: TensorSpec(shape=(), dtype=tf.resource, name=None)\n",
      "  5368108368: TensorSpec(shape=(), dtype=tf.resource, name=None)\n",
      "  5368110480: TensorSpec(shape=(), dtype=tf.resource, name=None)\n",
      "  5368108944: TensorSpec(shape=(), dtype=tf.resource, name=None)\n",
      "  5368118352: TensorSpec(shape=(), dtype=tf.resource, name=None)\n",
      "  5368117392: TensorSpec(shape=(), dtype=tf.resource, name=None)\n"
     ]
    },
    {
     "name": "stderr",
     "output_type": "stream",
     "text": [
      "W0000 00:00:1738888683.126227 45218043 tf_tfl_flatbuffer_helpers.cc:365] Ignored output_format.\n",
      "W0000 00:00:1738888683.126236 45218043 tf_tfl_flatbuffer_helpers.cc:368] Ignored drop_control_dependency.\n",
      "2025-02-06 16:38:03.126318: I tensorflow/cc/saved_model/reader.cc:83] Reading SavedModel from: /var/folders/2x/6b6_tjnx4_g6_ygvrg0y6b2w0000gn/T/tmpe9jcr8k0\n",
      "2025-02-06 16:38:03.126643: I tensorflow/cc/saved_model/reader.cc:52] Reading meta graph with tags { serve }\n",
      "2025-02-06 16:38:03.126647: I tensorflow/cc/saved_model/reader.cc:147] Reading SavedModel debug info (if present) from: /var/folders/2x/6b6_tjnx4_g6_ygvrg0y6b2w0000gn/T/tmpe9jcr8k0\n",
      "2025-02-06 16:38:03.130055: I tensorflow/cc/saved_model/loader.cc:236] Restoring SavedModel bundle.\n",
      "2025-02-06 16:38:03.148625: I tensorflow/cc/saved_model/loader.cc:220] Running initialization op on SavedModel bundle at path: /var/folders/2x/6b6_tjnx4_g6_ygvrg0y6b2w0000gn/T/tmpe9jcr8k0\n",
      "2025-02-06 16:38:03.154741: I tensorflow/cc/saved_model/loader.cc:466] SavedModel load for tags { serve }; Status: success: OK. Took 28423 microseconds.\n"
     ]
    },
    {
     "data": {
      "text/plain": [
       "23904"
      ]
     },
     "execution_count": 8,
     "metadata": {},
     "output_type": "execute_result"
    }
   ],
   "source": [
    "# Convert Keras model to TensorFlow Lite model\n",
    "keras_model = tf.keras.models.load_model('model.keras')\n",
    "converter = tf.lite.TFLiteConverter.from_keras_model(keras_model)\n",
    "converter.optimizations = [tf.lite.Optimize.DEFAULT]\n",
    "tflite_model = converter.convert()\n",
    "open('model.tflite', 'wb').write(tflite_model)"
   ]
  }
 ],
 "metadata": {
  "kernelspec": {
   "display_name": ".venv",
   "language": "python",
   "name": "python3"
  },
  "language_info": {
   "codemirror_mode": {
    "name": "ipython",
    "version": 3
   },
   "file_extension": ".py",
   "mimetype": "text/x-python",
   "name": "python",
   "nbconvert_exporter": "python",
   "pygments_lexer": "ipython3",
   "version": "3.12.8"
  }
 },
 "nbformat": 4,
 "nbformat_minor": 2
}
